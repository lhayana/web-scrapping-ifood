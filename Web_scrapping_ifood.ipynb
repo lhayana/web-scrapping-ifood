{
  "nbformat": 4,
  "nbformat_minor": 0,
  "metadata": {
    "colab": {
      "name": "Web_scrapping_ifood.ipynb",
      "provenance": []
    },
    "kernelspec": {
      "name": "python3",
      "display_name": "Python 3"
    },
    "language_info": {
      "name": "python"
    }
  },
  "cells": [
    {
      "cell_type": "code",
      "metadata": {
        "id": "Dst8N-vFUEwT"
      },
      "source": [
        "import pandas as pd \n",
        "import requests\n",
        "import os\n",
        "import json\n",
        "from pprint import pprint"
      ],
      "execution_count": 1,
      "outputs": []
    },
    {
      "cell_type": "code",
      "metadata": {
        "id": "6VmGq4wdWTSs"
      },
      "source": [
        "n = 300\n",
        "page = 7"
      ],
      "execution_count": 2,
      "outputs": []
    },
    {
      "cell_type": "code",
      "metadata": {
        "id": "UneMCRm-YZuU"
      },
      "source": [
        "responde = requests.get(f\"https://marketplace.ifood.com.br/v2/merchants?latitude=-5.847599&longitude=-35.241176&page={page}&channel=IFOOD&size={n}&features=&categories=&payment_types=&delivery_fee_from=0&delivery_fee_to=25&delivery_time_from=0&delivery_time_to=240\")"
      ],
      "execution_count": 3,
      "outputs": []
    },
    {
      "cell_type": "code",
      "metadata": {
        "id": "MTRWfbHmYrma"
      },
      "source": [
        "responde.text"
      ],
      "execution_count": null,
      "outputs": []
    },
    {
      "cell_type": "code",
      "metadata": {
        "id": "CgCV8mGYZ80u"
      },
      "source": [
        "array = []\n",
        "\n",
        "for i in range(0, 8):\n",
        "  r = responde = requests.get(f\"https://marketplace.ifood.com.br/v2/merchants?latitude=-5.847599&longitude=-35.241176&page={i}&channel=IFOOD&size={n}&features=&categories=&payment_types=&delivery_fee_from=0&delivery_fee_to=25&delivery_time_from=0&delivery_time_to=240\")\n",
        "  j = json.loads(r.text)\n",
        "  array += j['merchants']"
      ],
      "execution_count": 5,
      "outputs": []
    },
    {
      "cell_type": "code",
      "metadata": {
        "colab": {
          "base_uri": "https://localhost:8080/"
        },
        "id": "HGTOln68amSz",
        "outputId": "85749474-2e48-4d21-849f-8866789d3617"
      },
      "source": [
        "len(array)"
      ],
      "execution_count": 6,
      "outputs": [
        {
          "output_type": "execute_result",
          "data": {
            "text/plain": [
              "2200"
            ]
          },
          "metadata": {
            "tags": []
          },
          "execution_count": 6
        }
      ]
    },
    {
      "cell_type": "code",
      "metadata": {
        "id": "gTVTi9TPdQV2"
      },
      "source": [
        "lojas = array"
      ],
      "execution_count": 8,
      "outputs": []
    },
    {
      "cell_type": "code",
      "metadata": {
        "colab": {
          "base_uri": "https://localhost:8080/"
        },
        "id": "6GAWsYkdeSlQ",
        "outputId": "096b1dae-9777-48dd-c6e8-029ddf804e5f"
      },
      "source": [
        "lojas[1]"
      ],
      "execution_count": 9,
      "outputs": [
        {
          "output_type": "execute_result",
          "data": {
            "text/plain": [
              "{'available': True,\n",
              " 'contextSetup': {'catalogGroup': 'ffca0022-eb43-4205-9a1b-73a72f8e3f95',\n",
              "  'context': 'DEFAULT',\n",
              "  'regionGroup': 'e1dbd9d8-45d6-4b33-aafc-417b8d69b06d'},\n",
              " 'currency': 'BRL',\n",
              " 'deliveryFee': {'originalValue': 8.9, 'type': 'FIXED', 'value': 8.9},\n",
              " 'deliveryMethods': [{'deliveredBy': 'MERCHANT',\n",
              "   'id': 'DEFAULT',\n",
              "   'maxTime': 48,\n",
              "   'minTime': 38,\n",
              "   'mode': 'DELIVERY',\n",
              "   'originalValue': 8.9,\n",
              "   'priority': 1,\n",
              "   'schedule': {'now': True, 'shifts': [], 'timeSlots': []},\n",
              "   'subtitle': 'O entregador leva até você agora',\n",
              "   'title': 'Padrão',\n",
              "   'type': 'FIXED',\n",
              "   'value': 8.9},\n",
              "  {'id': 'TAKEOUT',\n",
              "   'maxTime': 30,\n",
              "   'minTime': 20,\n",
              "   'mode': 'TAKEOUT',\n",
              "   'priority': 4,\n",
              "   'schedule': {'now': True, 'shifts': [], 'timeSlots': []},\n",
              "   'subtitle': 'Você retira seu pedido no local',\n",
              "   'title': 'Retirada',\n",
              "   'type': 'FIXED',\n",
              "   'value': 0.0},\n",
              "  {'id': 'PICKUP_AREA',\n",
              "   'maxTime': 30,\n",
              "   'minTime': 20,\n",
              "   'mode': 'TAKEOUT',\n",
              "   'priority': 5,\n",
              "   'schedule': {'now': True, 'shifts': [], 'timeSlots': []},\n",
              "   'subtitle': 'Quero meu pedido embalado para viagem',\n",
              "   'title': 'Receber no veículo (estacionamento)',\n",
              "   'type': 'FIXED',\n",
              "   'value': 0.0}],\n",
              " 'deliveryTime': 38,\n",
              " 'distance': 3.46,\n",
              " 'features': ['DELIVERY', 'TAKEOUT', 'PICKUP_AREA', 'IMMEDIATE_ORDER'],\n",
              " 'id': '4b90132a-1614-431c-a38f-976b821ab176',\n",
              " 'mainCategory': {'code': 'LCH', 'name': 'Lanches'},\n",
              " 'merchantChain': {'id': 'effd946d-8942-4521-8ac6-aaf281a20880',\n",
              "  'name': \"Habib's *\",\n",
              "  'resources': [{'type': 'LOGO'}, {'type': 'HEADER'}],\n",
              "  'slug': 'habib-s'},\n",
              " 'minimumOrderValue': 10.0,\n",
              " 'name': \"Habib's - Salgado Filho\",\n",
              " 'paymentCodes': ['DNR',\n",
              "  'MPAY',\n",
              "  'MOVPAY_MC',\n",
              "  'MC',\n",
              "  'GPY_ELO',\n",
              "  'RDREST',\n",
              "  'AM',\n",
              "  'MOVPAY_AM',\n",
              "  'DIN',\n",
              "  'IMV',\n",
              "  'MOVPAY_VIS',\n",
              "  'TRE',\n",
              "  'GPY_MC',\n",
              "  'MOVPAY_HIPER',\n",
              "  'PIX',\n",
              "  'VRO',\n",
              "  'HIPER',\n",
              "  'IFE',\n",
              "  'ALR',\n",
              "  'VIS',\n",
              "  'RSODEX',\n",
              "  'VVREST',\n",
              "  'VIREST',\n",
              "  'SRP',\n",
              "  'VSREST',\n",
              "  'APL_VIS',\n",
              "  'MOVPAY_ELO',\n",
              "  'MOVPAY_DNR',\n",
              "  'ELO',\n",
              "  'APL_MC',\n",
              "  'MEREST',\n",
              "  'GPY_VIS'],\n",
              " 'preparationTime': 0,\n",
              " 'priceRange': 'CHEAP',\n",
              " 'resources': [{'fileName': '4b90132a-1614-431c-a38f-976b821ab176/202103031027_6l5q_i.jpg',\n",
              "   'type': 'LOGO'},\n",
              "  {'fileName': '4b90132a-1614-431c-a38f-976b821ab176/202102240951_9Xf7_c.jpg',\n",
              "   'type': 'HEADER'}],\n",
              " 'slug': 'natal-rn/habibs---salgado-filho-lagoa-nova',\n",
              " 'tags': ['20_30_OFF',\n",
              "  'ABR20_LANCHE',\n",
              "  'ABR20_PASCOA_ALMOCO',\n",
              "  'ADDRESS_PREFORM_TYPE',\n",
              "  'ALL_OFF_SET19',\n",
              "  'ATE_70_OFF_NAO_DFN',\n",
              "  'BF_70_OFF_19',\n",
              "  'BF_CUPOM15OFF_NOV20',\n",
              "  'carrossel_madrugada_ago20',\n",
              "  'CART::CPGN_1810_DISHES_10',\n",
              "  'CART::CPGN_1810_DISHES_10_ELIGIBLE',\n",
              "  'CART::CPGN_1810_DISHES_10_OPTED_IN',\n",
              "  'CART::DELIVERY_FEE_DISH',\n",
              "  'CART::MCHT::TAXA_GRATIS_NOVOS_ATE_3_0',\n",
              "  'CART::PROMOCAO_499_DEZ_2019_4.99',\n",
              "  'CHOCOLATRAS_KA_JUL21',\n",
              "  'CPGN_10M_ELIGIBLE',\n",
              "  'CPGN_10M_OPTED_IN',\n",
              "  'CPGN_1811_BLK_NOV',\n",
              "  'CPGN_1811_BLK_NOV_30',\n",
              "  'CPGN_1811_BLK_NOV_30_ELIGIBLE',\n",
              "  'CPGN_1811_BLK_NOV_30_OPTED_IN',\n",
              "  'CPGN_1811_BLK_NOV_50',\n",
              "  'CPGN_1811_BLK_NOV_50_ELIGIBLE',\n",
              "  'CPGN_1811_BLK_NOV_50_OPTED_IN',\n",
              "  'CPGN_1811_BLK_NOV_ELIGIBLE',\n",
              "  'CPGN_1811_BLK_NOV_OPTED_IN',\n",
              "  'CPGN_1811_BLK_NOV_PERFORMANCE',\n",
              "  'CPGN_DIA_DAS_CRIANCAS',\n",
              "  'CPGN_DIA_DAS_CRIANCAS_ELIGIBLE',\n",
              "  'CPGN_DIA_DAS_CRIANCAS_OPTED_IN',\n",
              "  'CPGN_DISC_1809_30_ELIGIBLE',\n",
              "  'CPGN_DISC_1809_30_OPTED_IN',\n",
              "  'CPGN_DISC_1809_50_ELIGIBLE',\n",
              "  'CPGN_DISC_1809_50_OPTED_IN',\n",
              "  'CPGN_DISC_1809_ELIGIBLE',\n",
              "  'CPGN_DISC_1809_OPTED_IN',\n",
              "  'CPGN_VOUCHER_LIGHT_KA',\n",
              "  'CRITICOS_EXCLUSIVOS',\n",
              "  'CRM_20200109_TOGO_TAG',\n",
              "  'CUPOM_EXCLUSIVO_DEZ19',\n",
              "  'DESTAQUES_HAMBURGUER',\n",
              "  'DIA_DOS_PAIS_AGO20',\n",
              "  'EXCLUSIVO',\n",
              "  'FAMOSOS',\n",
              "  'FAMOSOSJAN20',\n",
              "  'FAMOSOS_TOGO_NOV19',\n",
              "  'GDES_MARCAS_SP_MAI19',\n",
              "  'GUIDED_HELP_TYPE',\n",
              "  'HABIBS_JULHO_21',\n",
              "  'HAMBURGUER_DESTAQUES',\n",
              "  'HAMBURGUER_DESTAQUES_PRATOS',\n",
              "  'HAMBURGUER_TAXA_GRATIS',\n",
              "  'IGNORE_SMALL_ORDER_FEE',\n",
              "  'INVERNO_SOPA_JUN21',\n",
              "  'JAN20::TAKEOUT_20MIN',\n",
              "  'JETSKI_BURGER_20AGO',\n",
              "  'jetski_burger_ago20',\n",
              "  'JETSKI_WPP_FREQ',\n",
              "  'JET_WPP_FREQ_19_03',\n",
              "  'JET_WPP_FREQ_23_03_TO_26_03',\n",
              "  'KAS_CURARESSACA_FEV21',\n",
              "  'KEY_ACCOUNT',\n",
              "  'MAISPEDIDOS_REGIAO',\n",
              "  'MAR20_PASCOA_REF',\n",
              "  'MARCAS_FAMOSAS_CARROSSEL',\n",
              "  'MELHORES_RESTAURANTES_CHURN_ABR21',\n",
              "  'mes_das_criancas_hbb',\n",
              "  'MKT_COCA_OUT19',\n",
              "  'MKT_PDIVIDIR_MAR20',\n",
              "  'NAMORADOS_CUPOM',\n",
              "  'NAMORADOS_MAI19',\n",
              "  'NAMORADOS_MAI19_ELIGIBLE',\n",
              "  'NAMORADOS_MAI19_OPTED_IN',\n",
              "  'PAR_COMBOS_COCA_ATE_25',\n",
              "  'PBB_NOVOS_HBB_RGZ_099_MAR21',\n",
              "  'pequenos_precos_grandes_marcas',\n",
              "  'PRATOS_2X1',\n",
              "  'Pratos_Ate_50OFF',\n",
              "  'PROMOBOMB_DO_BEM_HBB_RZO',\n",
              "  'QUERIDINHOS_IFOOD_ABR2021',\n",
              "  'RANKING_DESCONTO_ATE70_MAR21',\n",
              "  'RANKING_FASTFOODS_FEV21',\n",
              "  'RANKING_OFERTAS_ATE20_MAR21',\n",
              "  'REDES_ACOES_CRM_ABR20',\n",
              "  'RES_ABR21_FANTA_EG',\n",
              "  'RES_COCA_LISTACOMBOSCOCA',\n",
              "  'RES_COMBOSFANTA_MIDIA',\n",
              "  'RES_FEV21_COCA_COMBO25',\n",
              "  'RES_MAR21_COCA_COMBO20OFF',\n",
              "  'RES_MAR21_COCA_ITENSCOMBO20OFF',\n",
              "  'RES_MAR21_COCA_ITENSCOMBO30OFF',\n",
              "  'RESTAURANTES_PGTO_OFF_CHURN_ABR21',\n",
              "  'REST_DE20_COCA_2POR1',\n",
              "  'REST_DEZ20_COCA_LISTA2POR1',\n",
              "  'SELECIONADOS_KA_CE',\n",
              "  'SELECIONADOS_KA_CE_ELIGIBLE',\n",
              "  'SELECIONADOS_KA_CE_OPTED_IN',\n",
              "  'semana_da_esfiha_habibs',\n",
              "  'SEMANA_HAMBURGUER_DESTAQUES',\n",
              "  'SEMANAPIZZA_CARROSSEL',\n",
              "  'SEMANAPIZZA_TAXAGRATIS',\n",
              "  'SO_TEM_NO_IFOOD',\n",
              "  'SRVT_ACAI_ATE_15_FEV19',\n",
              "  'VOUCHER_KA_REDES_OUT19',\n",
              "  'WRAPPED_DEZ19'],\n",
              " 'takeoutTime': 20,\n",
              " 'userRating': 4.260940074920654}"
            ]
          },
          "metadata": {
            "tags": []
          },
          "execution_count": 9
        }
      ]
    },
    {
      "cell_type": "code",
      "metadata": {
        "id": "GnuDPcT_dcd4"
      },
      "source": [
        "def get_data(json) -> list:\n",
        "  try:\n",
        "    id_ = json['id']\n",
        "  except:\n",
        "    id = ''\n",
        "\n",
        "  try:\n",
        "    nome = json['name'].strip()\n",
        "  except:\n",
        "    nome = ''\n",
        "\n",
        "  try:\n",
        "    resources = json['resources'][0]['fileName'].strip()\n",
        "  except:\n",
        "    resources = ''\n",
        "\n",
        "  try:\n",
        "    local = json['slug'].split(\"/\")[0].strip()\n",
        "  except:\n",
        "    local = ''\n",
        "\n",
        "  try:\n",
        "    categoria = json['mainCategory']['name'].strip()\n",
        "  except:\n",
        "    categoria = ''\n",
        "\n",
        "  try:\n",
        "    taxa = json['deliveryFee']['value']\n",
        "  except:\n",
        "    taxa = ''\n",
        "\n",
        "  try:\n",
        "    minimo = json['minimumOrderValue']\n",
        "  except:\n",
        "    minimo = ''\n",
        "\n",
        "  variaveis = locals()\n",
        "  variaveis.pop(\"json\")\n",
        "  return list(variaveis.values())"
      ],
      "execution_count": 10,
      "outputs": []
    },
    {
      "cell_type": "code",
      "metadata": {
        "colab": {
          "base_uri": "https://localhost:8080/"
        },
        "id": "jCkyQNVngdWC",
        "outputId": "67596329-dd59-4644-ba94-46a1a2f66f37"
      },
      "source": [
        "get_data(lojas[5])"
      ],
      "execution_count": 11,
      "outputs": [
        {
          "output_type": "execute_result",
          "data": {
            "text/plain": [
              "['0170dcfd-5aab-4bd5-b3af-07d7ed2b8ff1',\n",
              " 'Churrascaria e Pizzaria Arnaldo Oliveira',\n",
              " '201710261058__CHURR_RANCO.png',\n",
              " 'natal-rn',\n",
              " 'Carnes',\n",
              " 7.0,\n",
              " 18.0]"
            ]
          },
          "metadata": {
            "tags": []
          },
          "execution_count": 11
        }
      ]
    },
    {
      "cell_type": "code",
      "metadata": {
        "id": "RyQYo1bohgUE"
      },
      "source": [
        "res = list()\n",
        "\n",
        "for json in lojas:\n",
        "  res.append(get_data(json))"
      ],
      "execution_count": 12,
      "outputs": []
    },
    {
      "cell_type": "code",
      "metadata": {
        "colab": {
          "base_uri": "https://localhost:8080/",
          "height": 767
        },
        "id": "QEc8opgxhrGx",
        "outputId": "3a234d4c-64d9-4e16-dc51-0bb275ab87ab"
      },
      "source": [
        "restaurantes = pd.DataFrame(res, columns = ['id', 'nome', 'logo', 'local', 'categoria', 'taxa', 'minimo'])\n",
        "restaurantes"
      ],
      "execution_count": 13,
      "outputs": [
        {
          "output_type": "execute_result",
          "data": {
            "text/html": [
              "<div>\n",
              "<style scoped>\n",
              "    .dataframe tbody tr th:only-of-type {\n",
              "        vertical-align: middle;\n",
              "    }\n",
              "\n",
              "    .dataframe tbody tr th {\n",
              "        vertical-align: top;\n",
              "    }\n",
              "\n",
              "    .dataframe thead th {\n",
              "        text-align: right;\n",
              "    }\n",
              "</style>\n",
              "<table border=\"1\" class=\"dataframe\">\n",
              "  <thead>\n",
              "    <tr style=\"text-align: right;\">\n",
              "      <th></th>\n",
              "      <th>id</th>\n",
              "      <th>nome</th>\n",
              "      <th>logo</th>\n",
              "      <th>local</th>\n",
              "      <th>categoria</th>\n",
              "      <th>taxa</th>\n",
              "      <th>minimo</th>\n",
              "    </tr>\n",
              "  </thead>\n",
              "  <tbody>\n",
              "    <tr>\n",
              "      <th>0</th>\n",
              "      <td>6cc7fa43-032b-47be-954e-83d32a151acc</td>\n",
              "      <td>Gela Guela Sorveteria e Conveniência</td>\n",
              "      <td>6cc7fa43-032b-47be-954e-83d32a151acc/202005261...</td>\n",
              "      <td>natal-rn</td>\n",
              "      <td>Açaí</td>\n",
              "      <td>9.00</td>\n",
              "      <td>0.0</td>\n",
              "    </tr>\n",
              "    <tr>\n",
              "      <th>1</th>\n",
              "      <td>4b90132a-1614-431c-a38f-976b821ab176</td>\n",
              "      <td>Habib's - Salgado Filho</td>\n",
              "      <td>4b90132a-1614-431c-a38f-976b821ab176/202103031...</td>\n",
              "      <td>natal-rn</td>\n",
              "      <td>Lanches</td>\n",
              "      <td>8.90</td>\n",
              "      <td>10.0</td>\n",
              "    </tr>\n",
              "    <tr>\n",
              "      <th>2</th>\n",
              "      <td>d4a3984f-2b73-4f46-99df-1d6bc79ff293</td>\n",
              "      <td>China in Box - Tirol</td>\n",
              "      <td>d4a3984f-2b73-4f46-99df-1d6bc79ff293/202101041...</td>\n",
              "      <td>natal-rn</td>\n",
              "      <td>Chinesa</td>\n",
              "      <td>10.50</td>\n",
              "      <td>15.0</td>\n",
              "    </tr>\n",
              "    <tr>\n",
              "      <th>3</th>\n",
              "      <td>e0184c17-d62c-455c-93d8-c23ef40f2e3f</td>\n",
              "      <td>Click Pão Padaria e Restaurante</td>\n",
              "      <td>e0184c17-d62c-455c-93d8-c23ef40f2e3f/202001211...</td>\n",
              "      <td>parnamirim-rn</td>\n",
              "      <td>Padaria</td>\n",
              "      <td>5.00</td>\n",
              "      <td>16.0</td>\n",
              "    </tr>\n",
              "    <tr>\n",
              "      <th>4</th>\n",
              "      <td>1e9d77d2-f158-4a42-9eba-8b3cac08e6fd</td>\n",
              "      <td>Leve Culinária Brasileira &amp; Chinesa</td>\n",
              "      <td>1e9d77d2-f158-4a42-9eba-8b3cac08e6fd/202003311...</td>\n",
              "      <td>natal-rn</td>\n",
              "      <td>Brasileira</td>\n",
              "      <td>4.00</td>\n",
              "      <td>15.0</td>\n",
              "    </tr>\n",
              "    <tr>\n",
              "      <th>...</th>\n",
              "      <td>...</td>\n",
              "      <td>...</td>\n",
              "      <td>...</td>\n",
              "      <td>...</td>\n",
              "      <td>...</td>\n",
              "      <td>...</td>\n",
              "      <td>...</td>\n",
              "    </tr>\n",
              "    <tr>\n",
              "      <th>2195</th>\n",
              "      <td>9aef61e4-64d9-4c6f-b32e-c293234dbd0c</td>\n",
              "      <td>Chicken Premium</td>\n",
              "      <td>9aef61e4-64d9-4c6f-b32e-c293234dbd0c/202102102...</td>\n",
              "      <td>natal-rn</td>\n",
              "      <td>Lanches</td>\n",
              "      <td>12.99</td>\n",
              "      <td>10.0</td>\n",
              "    </tr>\n",
              "    <tr>\n",
              "      <th>2196</th>\n",
              "      <td>1715b188-a013-4286-808c-3e5d166d4609</td>\n",
              "      <td>Lar do Cuscuz</td>\n",
              "      <td>1715b188-a013-4286-808c-3e5d166d4609/202103061...</td>\n",
              "      <td>natal-rn</td>\n",
              "      <td>Brasileira</td>\n",
              "      <td>7.49</td>\n",
              "      <td>20.0</td>\n",
              "    </tr>\n",
              "    <tr>\n",
              "      <th>2197</th>\n",
              "      <td>aa8fc4b7-be63-462b-8c35-994dc85287e7</td>\n",
              "      <td>Açai do Sué</td>\n",
              "      <td>aa8fc4b7-be63-462b-8c35-994dc85287e7/202102271...</td>\n",
              "      <td>natal-rn</td>\n",
              "      <td>Açaí</td>\n",
              "      <td>3.49</td>\n",
              "      <td>10.0</td>\n",
              "    </tr>\n",
              "    <tr>\n",
              "      <th>2198</th>\n",
              "      <td>f58184ea-46c1-4888-bfa1-f8ea67018a3a</td>\n",
              "      <td>Restaurante Mamacita</td>\n",
              "      <td>f58184ea-46c1-4888-bfa1-f8ea67018a3a/202103181...</td>\n",
              "      <td>natal-rn</td>\n",
              "      <td>Marmita</td>\n",
              "      <td>5.00</td>\n",
              "      <td>20.0</td>\n",
              "    </tr>\n",
              "    <tr>\n",
              "      <th>2199</th>\n",
              "      <td>28663eab-bc37-4f2f-b012-60afcd4ede25</td>\n",
              "      <td>Palestrini Massas</td>\n",
              "      <td>28663eab-bc37-4f2f-b012-60afcd4ede25/202103222...</td>\n",
              "      <td>natal-rn</td>\n",
              "      <td>Italiana</td>\n",
              "      <td>0.00</td>\n",
              "      <td>17.0</td>\n",
              "    </tr>\n",
              "  </tbody>\n",
              "</table>\n",
              "<p>2200 rows × 7 columns</p>\n",
              "</div>"
            ],
            "text/plain": [
              "                                        id  ... minimo\n",
              "0     6cc7fa43-032b-47be-954e-83d32a151acc  ...    0.0\n",
              "1     4b90132a-1614-431c-a38f-976b821ab176  ...   10.0\n",
              "2     d4a3984f-2b73-4f46-99df-1d6bc79ff293  ...   15.0\n",
              "3     e0184c17-d62c-455c-93d8-c23ef40f2e3f  ...   16.0\n",
              "4     1e9d77d2-f158-4a42-9eba-8b3cac08e6fd  ...   15.0\n",
              "...                                    ...  ...    ...\n",
              "2195  9aef61e4-64d9-4c6f-b32e-c293234dbd0c  ...   10.0\n",
              "2196  1715b188-a013-4286-808c-3e5d166d4609  ...   20.0\n",
              "2197  aa8fc4b7-be63-462b-8c35-994dc85287e7  ...   10.0\n",
              "2198  f58184ea-46c1-4888-bfa1-f8ea67018a3a  ...   20.0\n",
              "2199  28663eab-bc37-4f2f-b012-60afcd4ede25  ...   17.0\n",
              "\n",
              "[2200 rows x 7 columns]"
            ]
          },
          "metadata": {
            "tags": []
          },
          "execution_count": 13
        }
      ]
    },
    {
      "cell_type": "code",
      "metadata": {
        "id": "IyGHWqHBLiIj"
      },
      "source": [
        "url = 'https://static-images.ifood.com.br/image/upload/t_thumbnail/logosgde/'"
      ],
      "execution_count": 14,
      "outputs": []
    },
    {
      "cell_type": "code",
      "metadata": {
        "id": "WHdybdATMaZL"
      },
      "source": [
        "restaurantes['logo'] = restaurantes['logo'].apply(lambda x : url+x)"
      ],
      "execution_count": 16,
      "outputs": []
    },
    {
      "cell_type": "code",
      "metadata": {
        "colab": {
          "base_uri": "https://localhost:8080/"
        },
        "id": "P6DOVatQM18R",
        "outputId": "a9e81a89-3c65-4576-dadd-5a942e85e6c7"
      },
      "source": [
        "restaurantes.info()"
      ],
      "execution_count": 18,
      "outputs": [
        {
          "output_type": "stream",
          "text": [
            "<class 'pandas.core.frame.DataFrame'>\n",
            "RangeIndex: 2200 entries, 0 to 2199\n",
            "Data columns (total 7 columns):\n",
            " #   Column     Non-Null Count  Dtype  \n",
            "---  ------     --------------  -----  \n",
            " 0   id         2200 non-null   object \n",
            " 1   nome       2200 non-null   object \n",
            " 2   logo       2200 non-null   object \n",
            " 3   local      2200 non-null   object \n",
            " 4   categoria  2200 non-null   object \n",
            " 5   taxa       2200 non-null   float64\n",
            " 6   minimo     2200 non-null   float64\n",
            "dtypes: float64(2), object(5)\n",
            "memory usage: 120.4+ KB\n"
          ],
          "name": "stdout"
        }
      ]
    },
    {
      "cell_type": "code",
      "metadata": {
        "colab": {
          "base_uri": "https://localhost:8080/",
          "height": 54
        },
        "id": "Jld_EDCuM9p4",
        "outputId": "e24089b3-8107-44a5-f42b-a140c793558e"
      },
      "source": [
        "restaurantes.iloc[10].logo"
      ],
      "execution_count": 25,
      "outputs": [
        {
          "output_type": "execute_result",
          "data": {
            "application/vnd.google.colaboratory.intrinsic+json": {
              "type": "string"
            },
            "text/plain": [
              "'https://static-images.ifood.com.br/image/upload/t_thumbnail/logosgde/29f0da49-a9ac-4cd1-b72b-5ef24ee8ee12/202105171502_5GIu_i.png'"
            ]
          },
          "metadata": {
            "tags": []
          },
          "execution_count": 25
        }
      ]
    },
    {
      "cell_type": "code",
      "metadata": {
        "id": "0xvBLslJOx_I"
      },
      "source": [
        "!mkdir logos"
      ],
      "execution_count": 28,
      "outputs": []
    },
    {
      "cell_type": "code",
      "metadata": {
        "id": "E3A15S-tM_ce"
      },
      "source": [
        "def download_logos(id_: str, logo: str) -> None:\n",
        "  logos = 'logos'\n",
        "\n",
        "  posfixo = logo.split('.')[-1]\n",
        "  file_name = f\"{id_}.{posfixo}\"\n",
        "\n",
        "  file_path = os.path.join(os.getcwd(), logos, file_name)\n",
        "\n",
        "  try:\n",
        "   response = requests.get(logo)\n",
        "  except:\n",
        "    pass\n",
        "  else:\n",
        "   with open(file_path, 'wb') as f:\n",
        "    f.write(response.content)\n"
      ],
      "execution_count": 44,
      "outputs": []
    },
    {
      "cell_type": "code",
      "metadata": {
        "id": "TXawD69BS4Tw"
      },
      "source": [
        "download_logos('id_qualquer', restaurantes.iloc[1].logo)"
      ],
      "execution_count": 46,
      "outputs": []
    },
    {
      "cell_type": "code",
      "metadata": {
        "id": "4ohQoTXpUsg-"
      },
      "source": [
        "for _,row in restaurantes.iterrows():\n",
        "  download_logos(row.id, row.logo)"
      ],
      "execution_count": 49,
      "outputs": []
    },
    {
      "cell_type": "code",
      "metadata": {
        "id": "DDQLejdBYA3G"
      },
      "source": [
        "restaurantes.to_csv('restaurantes_natal.csv', index=False)"
      ],
      "execution_count": 50,
      "outputs": []
    }
  ]
}